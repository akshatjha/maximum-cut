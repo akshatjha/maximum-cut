{
  "nbformat": 4,
  "nbformat_minor": 0,
  "metadata": {
    "colab": {
      "name": "Untitled1.ipynb",
      "provenance": [],
      "collapsed_sections": [],
      "authorship_tag": "ABX9TyPNs8m4RmQ5DX64H+avi+sC",
      "include_colab_link": true
    },
    "kernelspec": {
      "name": "python3",
      "display_name": "Python 3"
    }
  },
  "cells": [
    {
      "cell_type": "markdown",
      "metadata": {
        "id": "view-in-github",
        "colab_type": "text"
      },
      "source": [
        "<a href=\"https://colab.research.google.com/github/akshatjha/maximum-cut/blob/master/Untitled1.ipynb\" target=\"_parent\"><img src=\"https://colab.research.google.com/assets/colab-badge.svg\" alt=\"Open In Colab\"/></a>"
      ]
    },
    {
      "cell_type": "code",
      "metadata": {
        "id": "juGio7K1bNaa",
        "colab_type": "code",
        "colab": {
          "base_uri": "https://localhost:8080/",
          "height": 84
        },
        "outputId": "ca7fa17b-3a0e-4407-a1f3-c6a1d35832a5"
      },
      "source": [
        "pip install dwave-neal"
      ],
      "execution_count": 17,
      "outputs": [
        {
          "output_type": "stream",
          "text": [
            "Requirement already satisfied: dwave-neal in /usr/local/lib/python3.6/dist-packages (0.5.4)\n",
            "Requirement already satisfied: numpy<2.0.0,>=1.14.0 in /usr/local/lib/python3.6/dist-packages (from dwave-neal) (1.18.5)\n",
            "Requirement already satisfied: dimod>=0.7.7 in /usr/local/lib/python3.6/dist-packages (from dwave-neal) (0.9.3)\n",
            "Requirement already satisfied: six<2.0.0,>=1.11.0 in /usr/local/lib/python3.6/dist-packages (from dwave-neal) (1.12.0)\n"
          ],
          "name": "stdout"
        }
      ]
    },
    {
      "cell_type": "code",
      "metadata": {
        "id": "NcyNWSmHbTzV",
        "colab_type": "code",
        "colab": {}
      },
      "source": [
        "import neal"
      ],
      "execution_count": 18,
      "outputs": []
    },
    {
      "cell_type": "code",
      "metadata": {
        "id": "zCqHQnnIbWAe",
        "colab_type": "code",
        "colab": {}
      },
      "source": [
        "sampler = neal.SimulatedAnnealingSampler()"
      ],
      "execution_count": 19,
      "outputs": []
    },
    {
      "cell_type": "code",
      "metadata": {
        "id": "k7Jt2mwpbbqD",
        "colab_type": "code",
        "colab": {}
      },
      "source": [
        "h = {0: 1, 1: 1, 2: 1, 3: 1, 4: 1, 5: 1, 6: 1, 7: 1, 8: 1,}"
      ],
      "execution_count": 21,
      "outputs": []
    },
    {
      "cell_type": "code",
      "metadata": {
        "id": "SYGxULjEbh4b",
        "colab_type": "code",
        "colab": {}
      },
      "source": [
        "J = {(0, 1): 0.8, (0, 3): 0.8, (1, 2): 0.8, (1, 4): 0.8, (2, 4): 0.4, (2, 5): 0.8, (3, 4): 0.8, (3, 6): 0.8, (3, 7): 0.4, (4, 5): 0.8, (4, 7): 0.8, (5, 8): 0.8, (6, 7): 0.8, (7, 8): 0.8}"
      ],
      "execution_count": 22,
      "outputs": []
    },
    {
      "cell_type": "code",
      "metadata": {
        "id": "Rj0fzp-NbkpN",
        "colab_type": "code",
        "colab": {}
      },
      "source": [
        "response = sampler.sample_ising(h, J)"
      ],
      "execution_count": 23,
      "outputs": []
    },
    {
      "cell_type": "code",
      "metadata": {
        "id": "5Vsbo6knbnhL",
        "colab_type": "code",
        "colab": {
          "base_uri": "https://localhost:8080/",
          "height": 67
        },
        "outputId": "5eb58241-fa25-4812-c930-a1f9afcebd2d"
      },
      "source": [
        "print(response)"
      ],
      "execution_count": 24,
      "outputs": [
        {
          "output_type": "stream",
          "text": [
            "   0  1  2  3  4  5  6  7  8 energy num_oc.\n",
            "0 -1 +1 -1 +1 -1 +1 -1 +1 -1   -9.8       1\n",
            "['SPIN', 1 rows, 1 samples, 9 variables]\n"
          ],
          "name": "stdout"
        }
      ]
    }
  ]
}